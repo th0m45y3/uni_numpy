{
  "cells": [
    {
      "attachments": {},
      "cell_type": "markdown",
      "metadata": {
        "id": "gZeq7zYapqE2"
      },
      "source": [
        "# Numpy"
      ]
    },
    {
      "attachments": {},
      "cell_type": "markdown",
      "metadata": {
        "id": "3jOrpxw7pqFA"
      },
      "source": [
        "Материалы:\n",
        "* Макрушин С.В. \"Лекция 1: Библиотека Numpy\"\n",
        "* https://numpy.org/doc/stable/user/index.html\n",
        "* https://numpy.org/doc/stable/reference/index.html"
      ]
    },
    {
      "attachments": {},
      "cell_type": "markdown",
      "metadata": {
        "id": "nE7lwVYrpqFD"
      },
      "source": [
        "## Задачи для совместного разбора"
      ]
    },
    {
      "attachments": {},
      "cell_type": "markdown",
      "metadata": {
        "id": "9-PMePgWpqFF"
      },
      "source": [
        "1. Сгенерировать двухмерный массив `arr` размерности (4, 7), состоящий из случайных действительных чисел, равномерно распределенных в диапазоне от 0 до 20. Нормализовать значения массива с помощью преобразования вида  $𝑎𝑥+𝑏$  так, что после нормализации максимальный элемент масcива будет равен 1.0, минимальный 0.0"
      ]
    },
    {
      "cell_type": "code",
      "execution_count": 1,
      "metadata": {
        "colab": {
          "base_uri": "https://localhost:8080/"
        },
        "id": "WQ1cRTqXpqFH",
        "outputId": "8c9a3943-6319-48d5-a156-a71ccc7a8583"
      },
      "outputs": [
        {
          "name": "stdout",
          "output_type": "stream",
          "text": [
            "Сгенерированный массив:\n",
            " [[ 6.92534009  4.74212721  3.90732559 10.00343347]\n",
            " [ 0.19780195 15.77777167 17.45993886  4.20239757]\n",
            " [ 0.71694839 18.22404185  8.87295897 11.87544354]\n",
            " [15.20813888 10.11067065 12.55223932  3.71954508]\n",
            " [10.52047527  0.23294297 12.1314302  10.76208914]\n",
            " [18.14081826 12.90564291 15.46801366 16.2170512 ]\n",
            " [ 3.98392073 13.93026306  7.49888093  9.4597617 ]]\n",
            "\n",
            "Нормализованный массив:\n",
            " [[0.37320807 0.25209502 0.20578466 0.54396433]\n",
            " [0.         0.86429393 0.95761163 0.22215368]\n",
            " [0.02879949 1.         0.48125161 0.6478135 ]\n",
            " [0.83269373 0.54991328 0.68535854 0.19536759]\n",
            " [0.57264706 0.00194944 0.66201428 0.58605052]\n",
            " [0.9953832  0.70496349 0.8471102  0.88866282]\n",
            " [0.21003375 0.76180397 0.40502506 0.51380431]]\n"
          ]
        }
      ],
      "source": [
        "from numpy import random\n",
        "import numpy as np\n",
        "\n",
        "arr = random.uniform(0,20,28)\n",
        "\n",
        "arr = np.reshape(arr, [7, 4])\n",
        "print('Сгенерированный массив:\\n', arr)\n",
        "arr = (arr - arr.min()) / (arr.max() - arr.min())\n",
        "print('\\nНормализованный массив:\\n', arr)"
      ]
    },
    {
      "attachments": {},
      "cell_type": "markdown",
      "metadata": {
        "id": "oLW7ZX_ApqFL"
      },
      "source": [
        "2. Создать матрицу 8 на 10 из случайных целых (используя модуль `numpy.random`) чисел из диапозона от 0 до 10 и найти в ней строку (ее индекс и вывести саму строку), в которой сумма значений минимальна."
      ]
    },
    {
      "cell_type": "code",
      "execution_count": 2,
      "metadata": {
        "colab": {
          "base_uri": "https://localhost:8080/"
        },
        "id": "w1XqbFS1Pa1p",
        "outputId": "49ca897d-2d5d-4775-ce42-621aa973ed65"
      },
      "outputs": [
        {
          "name": "stdout",
          "output_type": "stream",
          "text": [
            "Сгенерированный массив:\n",
            " [[4 8 5 1 1 1 1 1 3 3]\n",
            " [9 9 6 6 9 6 1 8 2 4]\n",
            " [6 6 2 3 7 8 8 0 9 0]\n",
            " [4 6 6 8 9 5 0 2 3 1]\n",
            " [1 2 4 7 8 2 0 3 9 0]\n",
            " [9 9 3 8 6 1 8 4 0 7]\n",
            " [6 0 0 8 2 3 7 0 4 0]\n",
            " [8 1 1 4 4 4 5 4 2 5]]\n",
            "\n",
            "Индекс строки с минимальной суммой элементов: 0 \n",
            "Строка с минимальной суммой: [4 8 5 1 1 1 1 1 3 3]\n"
          ]
        }
      ],
      "source": [
        "arr2 = random.randint(0, 10, [8, 10])\n",
        "\n",
        "print('Сгенерированный массив:\\n', arr2)\n",
        "minind = arr2.sum(axis=1).argmin()\n",
        "print('\\nИндекс строки с минимальной суммой элементов:', minind, '\\nСтрока с минимальной суммой:', arr2[minind])  "
      ]
    },
    {
      "attachments": {},
      "cell_type": "markdown",
      "metadata": {
        "id": "AOnL_zpPpqFN"
      },
      "source": [
        "3. Найти евклидово расстояние между двумя одномерными векторами одинаковой размерности."
      ]
    },
    {
      "cell_type": "code",
      "execution_count": 3,
      "metadata": {
        "colab": {
          "base_uri": "https://localhost:8080/"
        },
        "id": "MnR7BLRgSDXf",
        "outputId": "46dbb486-51f7-4f48-efda-a353cbaa9f4b"
      },
      "outputs": [
        {
          "name": "stdout",
          "output_type": "stream",
          "text": [
            "Вектор v1:\n",
            " [0 6 8 3 2] \n",
            "Вектор v2:\n",
            " [16 17 11 11 11]\n",
            "\n",
            "Евклидово расстояние:\n",
            " 23.043437243605826\n"
          ]
        }
      ],
      "source": [
        "size_v = random.randint(3, 6)\n",
        "v1 = random.randint(0, 10, size_v)\n",
        "v2 = random.randint(10, 20, size_v)\n",
        "\n",
        "print('Вектор v1:\\n', v1, '\\nВектор v2:\\n', v2)\n",
        "dist = np.linalg.norm(v1-v2)\n",
        "\n",
        "print('\\nЕвклидово расстояние:\\n',dist)"
      ]
    },
    {
      "attachments": {},
      "cell_type": "markdown",
      "metadata": {
        "id": "AyZW002ypqFO"
      },
      "source": [
        "4. Решить матричное уравнение `A*X*B=-C` - найти матрицу `X`. Где `A = [[-1, 2, 4], [-3, 1, 2], [-3, 0, 1]]`, `B=[[3, -1], [2, 1]]`, `C=[[7, 21], [11, 8], [8, 4]]`."
      ]
    },
    {
      "cell_type": "code",
      "execution_count": 4,
      "metadata": {
        "colab": {
          "base_uri": "https://localhost:8080/"
        },
        "id": "xD-7019cTXOq",
        "outputId": "01095adf-de84-4d17-8fcb-62fcb43adeef"
      },
      "outputs": [
        {
          "data": {
            "text/plain": [
              "array([[ 1.00000000e+00,  5.32907052e-16],\n",
              "       [-2.00000000e+00,  1.00000000e+00],\n",
              "       [ 3.00000000e+00, -4.00000000e+00]])"
            ]
          },
          "execution_count": 4,
          "metadata": {},
          "output_type": "execute_result"
        }
      ],
      "source": [
        "A = np.array([[-1, 2, 4], [-3, 1, 2], [-3, 0, 1]])\n",
        "B = np.array([[3, -1], [2, 1]])\n",
        "C = np.array([[7, 21], [11, 8], [8, 4]])\n",
        "Cneg = -1 * C\n",
        "invA = np.linalg.inv(A)\n",
        "# np.linalg.inv(A) * (-1 * C) * np.linalg.inv(B)\n",
        "# X = invA * -C * invB\n",
        "np.matmul(np.matmul(invA, Cneg), np.linalg.inv(B))"
      ]
    },
    {
      "attachments": {},
      "cell_type": "markdown",
      "metadata": {
        "id": "pFIweTacpqFP"
      },
      "source": [
        "## Лабораторная работа №1"
      ]
    },
    {
      "attachments": {},
      "cell_type": "markdown",
      "metadata": {
        "id": "Qm4xZxEypqFQ"
      },
      "source": [
        "Замечание: при решении данных задач не подразумевается использования циклов или генераторов Python, если в задании не сказано обратного. Решение должно опираться на использования функционала библиотеки `numpy`."
      ]
    },
    {
      "attachments": {},
      "cell_type": "markdown",
      "metadata": {
        "id": "T9uD9UoFpqFS"
      },
      "source": [
        "1. Файл `minutes_n_ingredients.csv` содержит информацию об идентификаторе рецепта, времени его выполнения в минутах и количестве необходимых ингредиентов. Считайте данные из этого файла в виде массива `numpy` типа `int32`, используя `np.loadtxt`. Выведите на экран первые 5 строк массива."
      ]
    },
    {
      "cell_type": "code",
      "execution_count": 12,
      "metadata": {
        "colab": {
          "base_uri": "https://localhost:8080/",
          "height": 390
        },
        "id": "iBr63GkFXQLd",
        "outputId": "5b74d818-9542-497e-f97b-120124287d9e"
      },
      "outputs": [
        {
          "data": {
            "text/plain": [
              "array([(127244, 60, 16), ( 23891, 25,  7), ( 94746, 10,  6),\n",
              "       ( 67660,  5,  6), (157911, 60, 14)],\n",
              "      dtype=[('id', '<i4'), ('minutes', '<i4'), ('n_ingredients', '<i4')])"
            ]
          },
          "execution_count": 12,
          "metadata": {},
          "output_type": "execute_result"
        }
      ],
      "source": [
        "data = np.genfromtxt('data/minutes_n_ingredients.csv', delimiter=',', dtype='int32', names=True)\n",
        "data[:5]"
      ]
    },
    {
      "attachments": {},
      "cell_type": "markdown",
      "metadata": {
        "id": "YyYID2A0pqFT"
      },
      "source": [
        "2. Вычислите среднее значение, минимум, максимум и медиану по каждому из столбцов, кроме первого."
      ]
    },
    {
      "attachments": {},
      "cell_type": "markdown",
      "metadata": {
        "id": "P4mkbRjcpqFU"
      },
      "source": [
        "3. Ограничьте сверху значения продолжительности выполнения рецепта значением квантиля $q_{0.75}$. "
      ]
    },
    {
      "attachments": {},
      "cell_type": "markdown",
      "metadata": {
        "id": "jO2RXgqvpqFW"
      },
      "source": [
        "4. Посчитайте, для скольких рецептов указана продолжительность, равная нулю. Замените для таких строк значение в данном столбце на 1."
      ]
    },
    {
      "attachments": {},
      "cell_type": "markdown",
      "metadata": {
        "id": "QZ4lCRjzpqFY"
      },
      "source": [
        "5. Посчитайте, сколько уникальных рецептов находится в датасете."
      ]
    },
    {
      "attachments": {},
      "cell_type": "markdown",
      "metadata": {
        "id": "yr4yfG8qpqFZ"
      },
      "source": [
        "6. Сколько и каких различных значений кол-ва ингредиентов присутвует в рецептах из датасета?"
      ]
    },
    {
      "attachments": {},
      "cell_type": "markdown",
      "metadata": {
        "id": "ygO0cbxLpqFb"
      },
      "source": [
        "7. Создайте версию массива, содержащую информацию только о рецептах, состоящих не более чем из 5 ингредиентов."
      ]
    },
    {
      "attachments": {},
      "cell_type": "markdown",
      "metadata": {
        "id": "kXQDrNVmpqFc"
      },
      "source": [
        "8. Для каждого рецепта посчитайте, сколько в среднем ингредиентов приходится на одну минуту рецепта. Найдите максимальное значение этой величины для всего датасета"
      ]
    },
    {
      "attachments": {},
      "cell_type": "markdown",
      "metadata": {
        "id": "uzvUCQvFpqFe"
      },
      "source": [
        "9. Вычислите среднее количество ингредиентов для топ-100 рецептов с наибольшей продолжительностью"
      ]
    },
    {
      "attachments": {},
      "cell_type": "markdown",
      "metadata": {
        "id": "KilpQyXJpqFf"
      },
      "source": [
        "10. Выберите случайным образом и выведите информацию о 10 различных рецептах"
      ]
    },
    {
      "attachments": {},
      "cell_type": "markdown",
      "metadata": {
        "id": "DWaFYztYpqFg"
      },
      "source": [
        "11. Выведите процент рецептов, кол-во ингредиентов в которых меньше среднего."
      ]
    },
    {
      "attachments": {},
      "cell_type": "markdown",
      "metadata": {
        "id": "x2C0e83ZpqFi"
      },
      "source": [
        "12. Назовем \"простым\" такой рецепт, длительность выполнения которого не больше 20 минут и кол-во ингредиентов в котором не больше 5. Создайте версию датасета с дополнительным столбцом, значениями которого являются 1, если рецепт простой, и 0 в противном случае."
      ]
    },
    {
      "attachments": {},
      "cell_type": "markdown",
      "metadata": {
        "id": "12bAKXW6pqFj"
      },
      "source": [
        "13. Выведите процент \"простых\" рецептов в датасете"
      ]
    },
    {
      "attachments": {},
      "cell_type": "markdown",
      "metadata": {
        "id": "hpUm_h3zpqFl"
      },
      "source": [
        "14. Разделим рецепты на группы по следующему правилу. Назовем рецепты короткими, если их продолжительность составляет менее 10 минут; стандартными, если их продолжительность составляет более 10, но менее 20 минут; и длинными, если их продолжительность составляет не менее 20 минут. Создайте трехмерный массив, где нулевая ось отвечает за номер группы (короткий, стандартный или длинный рецепт), первая ось - за сам рецепт и вторая ось - за характеристики рецепта. Выберите максимальное количество рецептов из каждой группы таким образом, чтобы было возможно сформировать трехмерный массив. Выведите форму полученного массива."
      ]
    },
    {
      "cell_type": "code",
      "execution_count": null,
      "metadata": {
        "id": "H0vEa_5YpqFm"
      },
      "outputs": [],
      "source": []
    }
  ],
  "metadata": {
    "colab": {
      "provenance": []
    },
    "kernelspec": {
      "display_name": "Python 3 (ipykernel)",
      "language": "python",
      "name": "python3"
    },
    "language_info": {
      "codemirror_mode": {
        "name": "ipython",
        "version": 3
      },
      "file_extension": ".py",
      "mimetype": "text/x-python",
      "name": "python",
      "nbconvert_exporter": "python",
      "pygments_lexer": "ipython3",
      "version": "3.10.4"
    }
  },
  "nbformat": 4,
  "nbformat_minor": 0
}
