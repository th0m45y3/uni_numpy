{
  "cells": [
    {
      "attachments": {},
      "cell_type": "markdown",
      "metadata": {
        "id": "gZeq7zYapqE2"
      },
      "source": [
        "# Numpy"
      ]
    },
    {
      "cell_type": "code",
      "execution_count": 3,
      "metadata": {},
      "outputs": [],
      "source": [
        "from numpy import random\n",
        "import numpy as np"
      ]
    },
    {
      "attachments": {},
      "cell_type": "markdown",
      "metadata": {
        "id": "nE7lwVYrpqFD"
      },
      "source": [
        "## Задачи для совместного разбора"
      ]
    },
    {
      "attachments": {},
      "cell_type": "markdown",
      "metadata": {
        "id": "9-PMePgWpqFF"
      },
      "source": [
        "1. Сгенерировать двухмерный массив `arr` размерности (4, 7), состоящий из случайных действительных чисел, равномерно распределенных в диапазоне от 0 до 20. Нормализовать значения массива с помощью преобразования вида  $𝑎𝑥+𝑏$  так, что после нормализации максимальный элемент масcива будет равен 1.0, минимальный 0.0"
      ]
    },
    {
      "cell_type": "code",
      "execution_count": 4,
      "metadata": {
        "colab": {
          "base_uri": "https://localhost:8080/"
        },
        "id": "WQ1cRTqXpqFH",
        "outputId": "8c9a3943-6319-48d5-a156-a71ccc7a8583"
      },
      "outputs": [
        {
          "name": "stdout",
          "output_type": "stream",
          "text": [
            "Сгенерированный массив:\n",
            " [[14.38911512  1.4722475   6.8292833  16.08681646]\n",
            " [14.09403386  1.49955676 17.93241288 16.72182214]\n",
            " [17.26295701  9.10224768 16.12226182  1.91673546]\n",
            " [16.15806986  4.95351713  9.87384741  9.04450535]\n",
            " [13.98118572  1.30235614  3.74519553  9.74533649]\n",
            " [19.30986738  5.10345987  7.21383831  4.15363223]\n",
            " [ 4.72548995 14.99555019  6.25513563 14.97448336]]\n",
            "\n",
            "Нормализованный массив:\n",
            " [[0.7267389  0.00943447 0.30692343 0.8210163 ]\n",
            " [0.71035234 0.01095102 0.92350667 0.85627968]\n",
            " [0.88633019 0.43314656 0.82298467 0.03411795]\n",
            " [0.82497317 0.20275767 0.47599533 0.42993999]\n",
            " [0.70408561 0.         0.13565669 0.46885881]\n",
            " [1.         0.21108435 0.32827869 0.15833815]\n",
            " [0.19009478 0.76041569 0.27503964 0.7592458 ]]\n"
          ]
        }
      ],
      "source": [
        "arr = random.uniform(0,20,28)\n",
        "\n",
        "arr = np.reshape(arr, [7, 4])\n",
        "print('Сгенерированный массив:\\n', arr)\n",
        "arr = (arr - arr.min()) / (arr.max() - arr.min())\n",
        "print('\\nНормализованный массив:\\n', arr)"
      ]
    },
    {
      "attachments": {},
      "cell_type": "markdown",
      "metadata": {
        "id": "oLW7ZX_ApqFL"
      },
      "source": [
        "2. Создать матрицу 8 на 10 из случайных целых (используя модуль `numpy.random`) чисел из диапозона от 0 до 10 и найти в ней строку (ее индекс и вывести саму строку), в которой сумма значений минимальна."
      ]
    },
    {
      "cell_type": "code",
      "execution_count": 5,
      "metadata": {
        "colab": {
          "base_uri": "https://localhost:8080/"
        },
        "id": "w1XqbFS1Pa1p",
        "outputId": "49ca897d-2d5d-4775-ce42-621aa973ed65"
      },
      "outputs": [
        {
          "name": "stdout",
          "output_type": "stream",
          "text": [
            "Сгенерированный массив:\n",
            " [[8 1 3 1 6 6 5 0 5 7]\n",
            " [4 1 6 3 8 8 7 7 9 6]\n",
            " [5 9 7 9 6 6 6 2 5 6]\n",
            " [4 9 9 5 5 3 1 8 0 6]\n",
            " [0 6 8 0 8 5 5 7 9 1]\n",
            " [2 9 5 7 9 4 9 1 0 4]\n",
            " [7 2 1 1 7 8 7 9 5 0]\n",
            " [4 3 9 5 6 4 3 6 3 9]]\n",
            "\n",
            "Индекс строки с минимальной суммой элементов: 0 \n",
            "Строка с минимальной суммой: [8 1 3 1 6 6 5 0 5 7]\n"
          ]
        }
      ],
      "source": [
        "arr2 = random.randint(0, 10, [8, 10])\n",
        "\n",
        "print('Сгенерированный массив:\\n', arr2)\n",
        "minind = arr2.sum(axis=1).argmin()\n",
        "print('\\nИндекс строки с минимальной суммой элементов:', minind, '\\nСтрока с минимальной суммой:', arr2[minind])  "
      ]
    },
    {
      "attachments": {},
      "cell_type": "markdown",
      "metadata": {
        "id": "AOnL_zpPpqFN"
      },
      "source": [
        "3. Найти евклидово расстояние между двумя одномерными векторами одинаковой размерности."
      ]
    },
    {
      "cell_type": "code",
      "execution_count": 6,
      "metadata": {
        "colab": {
          "base_uri": "https://localhost:8080/"
        },
        "id": "MnR7BLRgSDXf",
        "outputId": "46dbb486-51f7-4f48-efda-a353cbaa9f4b"
      },
      "outputs": [
        {
          "name": "stdout",
          "output_type": "stream",
          "text": [
            "Вектор v1:\n",
            " [1 9 1] \n",
            "Вектор v2:\n",
            " [18 19 16]\n",
            "\n",
            "Евклидово расстояние:\n",
            " 24.779023386727733\n"
          ]
        }
      ],
      "source": [
        "size_v = random.randint(3, 6)\n",
        "v1 = random.randint(0, 10, size_v)\n",
        "v2 = random.randint(10, 20, size_v)\n",
        "\n",
        "print('Вектор v1:\\n', v1, '\\nВектор v2:\\n', v2)\n",
        "dist = np.linalg.norm(v1-v2)\n",
        "\n",
        "print('\\nЕвклидово расстояние:\\n',dist)"
      ]
    },
    {
      "attachments": {},
      "cell_type": "markdown",
      "metadata": {
        "id": "AyZW002ypqFO"
      },
      "source": [
        "4. Решить матричное уравнение `A*X*B=-C` - найти матрицу `X`. Где `A = [[-1, 2, 4], [-3, 1, 2], [-3, 0, 1]]`, `B=[[3, -1], [2, 1]]`, `C=[[7, 21], [11, 8], [8, 4]]`."
      ]
    },
    {
      "cell_type": "code",
      "execution_count": 7,
      "metadata": {
        "colab": {
          "base_uri": "https://localhost:8080/"
        },
        "id": "xD-7019cTXOq",
        "outputId": "01095adf-de84-4d17-8fcb-62fcb43adeef"
      },
      "outputs": [
        {
          "data": {
            "text/plain": [
              "array([[ 1.00000000e+00,  5.32907052e-16],\n",
              "       [-2.00000000e+00,  1.00000000e+00],\n",
              "       [ 3.00000000e+00, -4.00000000e+00]])"
            ]
          },
          "execution_count": 7,
          "metadata": {},
          "output_type": "execute_result"
        }
      ],
      "source": [
        "A = np.array([[-1, 2, 4], [-3, 1, 2], [-3, 0, 1]])\n",
        "B = np.array([[3, -1], [2, 1]])\n",
        "C = np.array([[7, 21], [11, 8], [8, 4]])\n",
        "Cneg = -1 * C\n",
        "invA = np.linalg.inv(A)\n",
        "# np.linalg.inv(A) * (-1 * C) * np.linalg.inv(B)\n",
        "# X = invA * -C * invB\n",
        "np.matmul(np.matmul(invA, Cneg), np.linalg.inv(B))"
      ]
    },
    {
      "attachments": {},
      "cell_type": "markdown",
      "metadata": {
        "id": "pFIweTacpqFP"
      },
      "source": [
        "## Лабораторная работа №1"
      ]
    },
    {
      "attachments": {},
      "cell_type": "markdown",
      "metadata": {
        "id": "Qm4xZxEypqFQ"
      },
      "source": [
        "Замечание: при решении данных задач не подразумевается использования циклов или генераторов Python, если в задании не сказано обратного. Решение должно опираться на использования функционала библиотеки `numpy`."
      ]
    },
    {
      "attachments": {},
      "cell_type": "markdown",
      "metadata": {
        "id": "T9uD9UoFpqFS"
      },
      "source": [
        "1. Файл `minutes_n_ingredients.csv` содержит информацию об идентификаторе рецепта, времени его выполнения в минутах и количестве необходимых ингредиентов. Считайте данные из этого файла в виде массива `numpy` типа `int32`, используя `np.loadtxt`. Выведите на экран первые 5 строк массива."
      ]
    },
    {
      "cell_type": "code",
      "execution_count": 8,
      "metadata": {
        "colab": {
          "base_uri": "https://localhost:8080/",
          "height": 390
        },
        "id": "iBr63GkFXQLd",
        "outputId": "5b74d818-9542-497e-f97b-120124287d9e"
      },
      "outputs": [
        {
          "data": {
            "text/plain": [
              "array([[127244,     60,     16],\n",
              "       [ 23891,     25,      7],\n",
              "       [ 94746,     10,      6],\n",
              "       [ 67660,      5,      6],\n",
              "       [157911,     60,     14]])"
            ]
          },
          "execution_count": 8,
          "metadata": {},
          "output_type": "execute_result"
        }
      ],
      "source": [
        "data = np.genfromtxt('data/minutes_n_ingredients.csv', delimiter=',', dtype=np.int32, skip_header=True )#, names=True).astype(np.int32)\n",
        "data[:5]"
      ]
    },
    {
      "attachments": {},
      "cell_type": "markdown",
      "metadata": {
        "id": "YyYID2A0pqFT"
      },
      "source": [
        "2. Вычислите среднее значение, минимум, максимум и медиану по каждому из столбцов, кроме первого."
      ]
    },
    {
      "cell_type": "code",
      "execution_count": 9,
      "metadata": {},
      "outputs": [
        {
          "name": "stdout",
          "output_type": "stream",
          "text": [
            "Средние значения:\n",
            " [2.16010017e+04 9.05528000e+00] \n",
            "Максимумы:\n",
            " [2147483647         39] \n",
            "Минимумы:\n",
            " [0 1]\n"
          ]
        }
      ],
      "source": [
        "print('Средние значения:\\n', data.mean(axis=0)[1:],'\\nМаксимумы:\\n', data.max(axis=0)[1:], '\\nМинимумы:\\n', data.min(axis=0)[1:])"
      ]
    },
    {
      "attachments": {},
      "cell_type": "markdown",
      "metadata": {
        "id": "P4mkbRjcpqFU"
      },
      "source": [
        "3. Ограничьте сверху значения продолжительности выполнения рецепта значением квантиля $q_{0.75}$. "
      ]
    },
    {
      "cell_type": "code",
      "execution_count": 10,
      "metadata": {},
      "outputs": [
        {
          "data": {
            "text/plain": [
              "array([60., 25., 10., ..., 65.,  5., 65.])"
            ]
          },
          "execution_count": 10,
          "metadata": {},
          "output_type": "execute_result"
        }
      ],
      "source": [
        "#q75 = np.quantile(data[:, 1], 0.75)\n",
        "# np.clip(data, 0, q75)\n",
        "q75 = np.quantile(data[:, 1], 0.75)\n",
        "np.clip(data[:, 1], 0, q75)"
      ]
    },
    {
      "attachments": {},
      "cell_type": "markdown",
      "metadata": {
        "id": "jO2RXgqvpqFW"
      },
      "source": [
        "4. Посчитайте, для скольких рецептов указана продолжительность, равная нулю. Замените для таких строк значение в данном столбце на 1."
      ]
    },
    {
      "cell_type": "code",
      "execution_count": 11,
      "metadata": {},
      "outputs": [
        {
          "name": "stdout",
          "output_type": "stream",
          "text": [
            "Количество рецептов с нулевой продолжительностью:\n",
            " 479\n"
          ]
        },
        {
          "data": {
            "text/plain": [
              "(array([], dtype=int64),)"
            ]
          },
          "execution_count": 11,
          "metadata": {},
          "output_type": "execute_result"
        }
      ],
      "source": [
        "zer = np.where( data[:, 1] == 0)\n",
        "print('Количество рецептов с нулевой продолжительностью:\\n', len(zer[0]))\n",
        "data[data[:, 1] == 0] = 1\n",
        "np.where( data[:, 1] == 0)"
      ]
    },
    {
      "attachments": {},
      "cell_type": "markdown",
      "metadata": {
        "id": "QZ4lCRjzpqFY"
      },
      "source": [
        "5. Посчитайте, сколько уникальных рецептов находится в датасете."
      ]
    },
    {
      "cell_type": "code",
      "execution_count": 12,
      "metadata": {},
      "outputs": [
        {
          "data": {
            "text/plain": [
              "100076"
            ]
          },
          "execution_count": 12,
          "metadata": {},
          "output_type": "execute_result"
        }
      ],
      "source": [
        "len(np.unique(data))"
      ]
    },
    {
      "attachments": {},
      "cell_type": "markdown",
      "metadata": {
        "id": "yr4yfG8qpqFZ"
      },
      "source": [
        "6. Сколько и каких различных значений кол-ва ингредиентов присутвует в рецептах из датасета?"
      ]
    },
    {
      "cell_type": "code",
      "execution_count": 13,
      "metadata": {},
      "outputs": [
        {
          "name": "stdout",
          "output_type": "stream",
          "text": [
            "Уникальные кол-ва ингридиентов:\n",
            " [ 1  2  3  4  5  6  7  8  9 10 11 12 13 14 15 16 17 18 19 20 21 22 23 24\n",
            " 25 26 27 28 29 30 31 32 33 34 35 37 39] \n",
            "Всего:\n",
            " 37\n"
          ]
        }
      ],
      "source": [
        "uni_ingr = np.unique(data[:, 2])\n",
        "print('Уникальные кол-ва ингридиентов:\\n', uni_ingr, '\\nВсего:\\n', len(uni_ingr))"
      ]
    },
    {
      "attachments": {},
      "cell_type": "markdown",
      "metadata": {
        "id": "ygO0cbxLpqFb"
      },
      "source": [
        "7. Создайте версию массива, содержащую информацию только о рецептах, состоящих не более чем из 5 ингредиентов."
      ]
    },
    {
      "cell_type": "code",
      "execution_count": 14,
      "metadata": {},
      "outputs": [
        {
          "data": {
            "text/plain": [
              "array([[127244,     60,     16],\n",
              "       [ 23891,     25,      7],\n",
              "       [ 94746,     10,      6],\n",
              "       ...,\n",
              "       [287943,     85,     15],\n",
              "       [498432,     65,     15],\n",
              "       [ 81993,    140,     14]])"
            ]
          },
          "execution_count": 14,
          "metadata": {},
          "output_type": "execute_result"
        }
      ],
      "source": [
        "data[np.where( data[:, 1] > 5)]"
      ]
    },
    {
      "attachments": {},
      "cell_type": "markdown",
      "metadata": {
        "id": "kXQDrNVmpqFc"
      },
      "source": [
        "8. Для каждого рецепта посчитайте, сколько в среднем ингредиентов приходится на одну минуту рецепта. Найдите максимальное значение этой величины для всего датасета"
      ]
    },
    {
      "cell_type": "code",
      "execution_count": 15,
      "metadata": {},
      "outputs": [
        {
          "name": "stdout",
          "output_type": "stream",
          "text": [
            "Игнредиентов на минуту для каждого рецепта:\n",
            " [ 3.75        3.57142857  1.66666667 ...  4.33333333  1.25\n",
            " 10.        ] \n",
            "Максимум:\n",
            " 268435455.875\n"
          ]
        }
      ],
      "source": [
        "ingrInMin = data[:, 1]/data[:, 2]\n",
        "print('Игнредиентов на минуту для каждого рецепта:\\n', ingrInMin, '\\nМаксимум:\\n', np.max(ingrInMin))"
      ]
    },
    {
      "attachments": {},
      "cell_type": "markdown",
      "metadata": {
        "id": "uzvUCQvFpqFe"
      },
      "source": [
        "9. Вычислите среднее количество ингредиентов для топ-100 рецептов с наибольшей продолжительностью"
      ]
    },
    {
      "cell_type": "code",
      "execution_count": 16,
      "metadata": {},
      "outputs": [
        {
          "name": "stdout",
          "output_type": "stream",
          "text": [
            "Топ-100 по времени:\n",
            " [[    261647 2147483647          8]\n",
            " [    216215     259260          7]\n",
            " [    425681     259205          2]\n",
            " [     98912     216015          4]\n",
            " [     70551     201610          7]\n",
            " [    236340     146880          5]\n",
            " [    242032     132495          3]\n",
            " [    184528     129620          3]\n",
            " [    236274     129615          5]\n",
            " [    236281     129615          5]\n",
            " [     13264     115230          4]\n",
            " [    105417      86405          2]\n",
            " [     41403      86400          4]\n",
            " [     34175      86400          3]\n",
            " [    142936      86400          9]\n",
            " [     93063      86400          2]\n",
            " [     42247      69120          2]\n",
            " [    255611      64815          3]\n",
            " [    140344      60555          3]\n",
            " [    101082      60540          7]\n",
            " [     46288      50405          5]\n",
            " [    246196      44655          4]\n",
            " [     30845      44645          3]\n",
            " [    344480      43380         22]\n",
            " [    102098      43380          4]\n",
            " [    254782      43250         15]\n",
            " [    209590      43230          8]\n",
            " [    200097      43205          3]\n",
            " [    414465      43202          2]\n",
            " [     40993      43200          5]\n",
            " [    295914      43200          9]\n",
            " [    326069      43200          3]\n",
            " [     72203      43200          3]\n",
            " [    346169      43200         17]\n",
            " [    285910      41775          7]\n",
            " [     64709      40325          3]\n",
            " [    109063      36015          8]\n",
            " [    137027      34570          4]\n",
            " [    288653      34570          6]\n",
            " [    144367      34570          5]\n",
            " [    191140      30270          5]\n",
            " [     90536      30270          6]\n",
            " [     37202      30270          4]\n",
            " [    187480      30255          2]\n",
            " [    133994      30255          8]\n",
            " [    310374      30240          6]\n",
            " [    108917      28810          8]\n",
            " [    104976      28810          6]\n",
            " [    186746      26100          8]\n",
            " [    315022      23050          3]\n",
            " [    183432      21690          4]\n",
            " [    401460      21600          4]\n",
            " [    348132      21600         10]\n",
            " [    179670      20340         12]\n",
            " [    477929      20340         11]\n",
            " [     46390      20280         11]\n",
            " [     49738      20190          5]\n",
            " [    121433      20190          4]\n",
            " [    340621      20190          4]\n",
            " [    406267      20175          9]\n",
            " [    129227      20175         10]\n",
            " [    246663      20175          7]\n",
            " [    208298      20175         12]\n",
            " [    291096      20170          5]\n",
            " [    246355      20165          9]\n",
            " [    246348      20165          6]\n",
            " [    124818      20163          3]\n",
            " [    251532      20161          6]\n",
            " [    117582      20160          9]\n",
            " [     72355      20160          2]\n",
            " [    441587      20160          4]\n",
            " [     81105      20160         13]\n",
            " [     24478      20160          3]\n",
            " [     17490      20160          6]\n",
            " [     10004      18725          5]\n",
            " [     72549      18720         13]\n",
            " [     13904      17310          8]\n",
            " [     30101      15900          5]\n",
            " [    443929      15880          5]\n",
            " [    197469      14460         13]\n",
            " [    233539      14460         10]\n",
            " [     26995      14450         17]\n",
            " [    266032      14430          8]\n",
            " [    269245      14425          5]\n",
            " [    453387      14420          8]\n",
            " [    230796      14420          8]\n",
            " [     64793      14405          3]\n",
            " [    298229      11565          8]\n",
            " [    164029      11550         14]\n",
            " [    116809      11521          3]\n",
            " [    106876      11520          8]\n",
            " [     57721      10440         12]\n",
            " [     55411      10320          8]\n",
            " [    258854      10320         13]\n",
            " [    199925      10140          7]\n",
            " [    417539      10110          6]\n",
            " [    369728      10110          7]\n",
            " [     89339      10105          8]\n",
            " [    252450      10100          4]\n",
            " [    116645      10095          6]] \n",
            "Среднее кол-во ингредиентов:\n",
            " 6.61\n"
          ]
        }
      ],
      "source": [
        "top100min = data[data[:, 1].argsort()][::-1][:100]\n",
        "print('Топ-100 по времени:\\n', top100min, '\\nСреднее кол-во ингредиентов:\\n', np.average(top100min[:, 2]))"
      ]
    },
    {
      "attachments": {},
      "cell_type": "markdown",
      "metadata": {
        "id": "KilpQyXJpqFf"
      },
      "source": [
        "10. Выберите случайным образом и выведите информацию о 10 различных рецептах"
      ]
    },
    {
      "cell_type": "code",
      "execution_count": 17,
      "metadata": {},
      "outputs": [
        {
          "data": {
            "text/plain": [
              "array([[ 26957,     20,      5],\n",
              "       [ 44891,     60,      7],\n",
              "       [ 15990,     25,      4],\n",
              "       [349612,   1445,      2],\n",
              "       [ 52936,     75,     13],\n",
              "       [259927,     20,     11],\n",
              "       [205882,     35,     11],\n",
              "       [180705,     45,      7],\n",
              "       [380015,     80,     10],\n",
              "       [455750,     10,      4]])"
            ]
          },
          "execution_count": 17,
          "metadata": {},
          "output_type": "execute_result"
        }
      ],
      "source": [
        "data[np.random.choice(data.shape[0], 10, replace=False)]"
      ]
    },
    {
      "attachments": {},
      "cell_type": "markdown",
      "metadata": {
        "id": "DWaFYztYpqFg"
      },
      "source": [
        "11. Выведите процент рецептов, кол-во ингредиентов в которых меньше среднего."
      ]
    },
    {
      "cell_type": "code",
      "execution_count": 18,
      "metadata": {},
      "outputs": [
        {
          "data": {
            "text/plain": [
              "58.989000000000004"
            ]
          },
          "execution_count": 18,
          "metadata": {},
          "output_type": "execute_result"
        }
      ],
      "source": [
        "# len(data) / data[data[:, 2] < np.average(data[:, 2])].sum() * 100\n",
        "low_ingrd = data[data[:, 2] < np.average(data[:, 2])]\n",
        "# np.array(low_ingrd).size()\n",
        "\n",
        "low_ingrd[:, 0].shape[0] / data[:, 0].shape[0]  * 100"
      ]
    },
    {
      "attachments": {},
      "cell_type": "markdown",
      "metadata": {
        "id": "x2C0e83ZpqFi"
      },
      "source": [
        "12. Назовем \"простым\" такой рецепт, длительность выполнения которого не больше 20 минут и кол-во ингредиентов в котором не больше 5. Создайте версию датасета с дополнительным столбцом, значениями которого являются 1, если рецепт простой, и 0 в противном случае."
      ]
    },
    {
      "cell_type": "code",
      "execution_count": 19,
      "metadata": {},
      "outputs": [
        {
          "data": {
            "text/plain": [
              "array([[127244,     60,     16,      0],\n",
              "       [ 23891,     25,      7,      0],\n",
              "       [ 94746,     10,      6,      0],\n",
              "       ...,\n",
              "       [498432,     65,     15,      0],\n",
              "       [370915,      5,      4,      1],\n",
              "       [ 81993,    140,     14,      0]])"
            ]
          },
          "execution_count": 19,
          "metadata": {},
          "output_type": "execute_result"
        }
      ],
      "source": [
        "mask_prime = np.where((data[:, 1] < 21) & (data[:, 2] < 6), 1, 0)\n",
        "data_prime = np.c_[data, mask_prime]\n",
        "data_prime"
      ]
    },
    {
      "attachments": {},
      "cell_type": "markdown",
      "metadata": {
        "id": "12bAKXW6pqFj"
      },
      "source": [
        "13. Выведите процент \"простых\" рецептов в датасете"
      ]
    },
    {
      "cell_type": "code",
      "execution_count": 20,
      "metadata": {},
      "outputs": [
        {
          "data": {
            "text/plain": [
              "9.943"
            ]
          },
          "execution_count": 20,
          "metadata": {},
          "output_type": "execute_result"
        }
      ],
      "source": [
        "len(mask_prime[mask_prime == 1 ]) / data[:, 0].shape[0]  * 100"
      ]
    },
    {
      "attachments": {},
      "cell_type": "markdown",
      "metadata": {
        "id": "hpUm_h3zpqFl"
      },
      "source": [
        "14. Разделим рецепты на группы по следующему правилу. Назовем рецепты короткими, если их продолжительность составляет менее 10 минут; стандартными, если их продолжительность составляет более 10, но менее 20 минут; и длинными, если их продолжительность составляет не менее 20 минут. Создайте трехмерный массив, где нулевая ось отвечает за номер группы (короткий, стандартный или длинный рецепт), первая ось - за сам рецепт и вторая ось - за характеристики рецепта. Выберите максимальное количество рецептов из каждой группы таким образом, чтобы было возможно сформировать трехмерный массив. Выведите форму полученного массива."
      ]
    },
    {
      "cell_type": "code",
      "execution_count": 53,
      "metadata": {
        "id": "H0vEa_5YpqFm"
      },
      "outputs": [
        {
          "data": {
            "text/plain": [
              "array([['долгий', '60', '16'],\n",
              "       ['долгий', '25', '7'],\n",
              "       ['быстрый', '10', '6'],\n",
              "       ...,\n",
              "       ['долгий', '65', '15'],\n",
              "       ['быстрый', '5', '4'],\n",
              "       ['долгий', '140', '14']], dtype='<U11')"
            ]
          },
          "execution_count": 53,
          "metadata": {},
          "output_type": "execute_result"
        }
      ],
      "source": [
        "def conditions(x):\n",
        "    if   x <= 10:   return \"быстрый\"\n",
        "    elif x <  20:   return \"стандарт\"\n",
        "    else:           return \"долгий\"\n",
        "\n",
        "func         = np.vectorize(conditions)\n",
        "recipe_class = func(data[:, 1])\n",
        "                        #class         #time       #n_ingredients\n",
        "data_grouped = np.stack((recipe_class, data[:, 1], data[:, 2]), axis=1)\n",
        "data_grouped"
      ]
    }
  ],
  "metadata": {
    "colab": {
      "provenance": []
    },
    "kernelspec": {
      "display_name": "Python 3 (ipykernel)",
      "language": "python",
      "name": "python3"
    },
    "language_info": {
      "codemirror_mode": {
        "name": "ipython",
        "version": 3
      },
      "file_extension": ".py",
      "mimetype": "text/x-python",
      "name": "python",
      "nbconvert_exporter": "python",
      "pygments_lexer": "ipython3",
      "version": "3.10.4"
    }
  },
  "nbformat": 4,
  "nbformat_minor": 0
}
