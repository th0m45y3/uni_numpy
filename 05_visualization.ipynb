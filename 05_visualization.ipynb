{
 "cells": [
  {
   "attachments": {},
   "cell_type": "markdown",
   "id": "4f6d61f7",
   "metadata": {},
   "source": [
    "## Визуализация данных\n",
    "\n",
    "__Автор задач: Блохин Н.В. (NVBlokhin@fa.ru)__\n",
    "\n",
    "Материалы:\n",
    "* Макрушин С.В. Лекция \"Визуализация данных\".\n",
    "* https://numpy.org/doc/stable/reference/generated/numpy.load.html\n",
    "* https://matplotlib.org/stable/gallery/text_labels_and_annotations/date.html\n",
    "* https://matplotlib.org/stable/gallery/subplots_axes_and_figures/shared_axis_demo.html\n",
    "* https://pandas.pydata.org/docs/reference/api/pandas.DataFrame.plot.html#pandas.DataFrame.plot\n",
    "* https://pandas.pydata.org/docs/reference/api/pandas.DataFrame.plot.bar.html\n",
    "* https://pandas.pydata.org/docs/reference/api/pandas.DataFrame.plot.pie.html\n",
    "* https://seaborn.pydata.org/examples/index.html\n",
    "* https://matplotlib.org/stable/tutorials/colors/colormaps.html"
   ]
  },
  {
   "cell_type": "code",
   "execution_count": 1,
   "id": "6fac7ce2",
   "metadata": {},
   "outputs": [],
   "source": [
    "import pandas as pd\n",
    "import numpy as np\n",
    "import matplotlib.pyplot as plt\n",
    "import matplotlib.dates as mdates\n",
    "import seaborn as sns\n",
    "import pandas_datareader.data as wb\n",
    "\n",
    "#pip install seaborn\n",
    "#pip install matplotlib\n",
    "#pip install pandas_datareader"
   ]
  },
  {
   "attachments": {},
   "cell_type": "markdown",
   "id": "6793a34f",
   "metadata": {},
   "source": [
    "## Задачи для совместного разбора"
   ]
  },
  {
   "attachments": {},
   "cell_type": "markdown",
   "id": "0c3cc899",
   "metadata": {},
   "source": [
    "1. При помощи пакета `pandas_datareader` загрузите данные о ценах акций Apple с 2017-01-01 по 2018-12-31. Визуализируйте временные ряд цен акций."
   ]
  },
  {
   "cell_type": "code",
   "execution_count": 3,
   "id": "cae71414",
   "metadata": {},
   "outputs": [
    {
     "name": "stdout",
     "output_type": "stream",
     "text": [
      "[*********************100%***********************]  1 of 1 completed\n"
     ]
    }
   ],
   "source": [
    "import yfinance as yf\n",
    "yf.pdr_override() \n",
    "df = web.get_data_yahoo(\"AAPL\", end=\"2018-12-31\", start=\"2017-01-01\")"
   ]
  },
  {
   "cell_type": "code",
   "execution_count": 2,
   "id": "f18d7ae0",
   "metadata": {},
   "outputs": [
    {
     "ename": "TypeError",
     "evalue": "string indices must be integers",
     "output_type": "error",
     "traceback": [
      "\u001b[1;31m---------------------------------------------------------------------------\u001b[0m",
      "\u001b[1;31mTypeError\u001b[0m                                 Traceback (most recent call last)",
      "\u001b[1;32mc:\\Users\\tomas\\Documents\\GitHub\\uni_numpy\\05_visualization.ipynb Cell 5\u001b[0m in \u001b[0;36m<cell line: 3>\u001b[1;34m()\u001b[0m\n\u001b[0;32m      <a href='vscode-notebook-cell:/c%3A/Users/tomas/Documents/GitHub/uni_numpy/05_visualization.ipynb#W4sZmlsZQ%3D%3D?line=0'>1</a>\u001b[0m \u001b[39mfrom\u001b[39;00m \u001b[39mpandas_datareader\u001b[39;00m \u001b[39mimport\u001b[39;00m data \u001b[39mas\u001b[39;00m web\n\u001b[1;32m----> <a href='vscode-notebook-cell:/c%3A/Users/tomas/Documents/GitHub/uni_numpy/05_visualization.ipynb#W4sZmlsZQ%3D%3D?line=2'>3</a>\u001b[0m df \u001b[39m=\u001b[39m web\u001b[39m.\u001b[39;49mget_data_yahoo(\u001b[39m\"\u001b[39;49m\u001b[39mAAPL\u001b[39;49m\u001b[39m\"\u001b[39;49m, end\u001b[39m=\u001b[39;49m\u001b[39m\"\u001b[39;49m\u001b[39m2018-12-31\u001b[39;49m\u001b[39m\"\u001b[39;49m, start\u001b[39m=\u001b[39;49m\u001b[39m\"\u001b[39;49m\u001b[39m2017-01-01\u001b[39;49m\u001b[39m\"\u001b[39;49m)\n",
      "File \u001b[1;32mc:\\Users\\tomas\\AppData\\Local\\Programs\\Python\\Python310\\lib\\site-packages\\pandas_datareader\\data.py:80\u001b[0m, in \u001b[0;36mget_data_yahoo\u001b[1;34m(*args, **kwargs)\u001b[0m\n\u001b[0;32m     79\u001b[0m \u001b[39mdef\u001b[39;00m \u001b[39mget_data_yahoo\u001b[39m(\u001b[39m*\u001b[39margs, \u001b[39m*\u001b[39m\u001b[39m*\u001b[39mkwargs):\n\u001b[1;32m---> 80\u001b[0m     \u001b[39mreturn\u001b[39;00m YahooDailyReader(\u001b[39m*\u001b[39;49margs, \u001b[39m*\u001b[39;49m\u001b[39m*\u001b[39;49mkwargs)\u001b[39m.\u001b[39;49mread()\n",
      "File \u001b[1;32mc:\\Users\\tomas\\AppData\\Local\\Programs\\Python\\Python310\\lib\\site-packages\\pandas_datareader\\base.py:253\u001b[0m, in \u001b[0;36m_DailyBaseReader.read\u001b[1;34m(self)\u001b[0m\n\u001b[0;32m    251\u001b[0m \u001b[39m# If a single symbol, (e.g., 'GOOG')\u001b[39;00m\n\u001b[0;32m    252\u001b[0m \u001b[39mif\u001b[39;00m \u001b[39misinstance\u001b[39m(\u001b[39mself\u001b[39m\u001b[39m.\u001b[39msymbols, (string_types, \u001b[39mint\u001b[39m)):\n\u001b[1;32m--> 253\u001b[0m     df \u001b[39m=\u001b[39m \u001b[39mself\u001b[39;49m\u001b[39m.\u001b[39;49m_read_one_data(\u001b[39mself\u001b[39;49m\u001b[39m.\u001b[39;49murl, params\u001b[39m=\u001b[39;49m\u001b[39mself\u001b[39;49m\u001b[39m.\u001b[39;49m_get_params(\u001b[39mself\u001b[39;49m\u001b[39m.\u001b[39;49msymbols))\n\u001b[0;32m    254\u001b[0m \u001b[39m# Or multiple symbols, (e.g., ['GOOG', 'AAPL', 'MSFT'])\u001b[39;00m\n\u001b[0;32m    255\u001b[0m \u001b[39melif\u001b[39;00m \u001b[39misinstance\u001b[39m(\u001b[39mself\u001b[39m\u001b[39m.\u001b[39msymbols, DataFrame):\n",
      "File \u001b[1;32mc:\\Users\\tomas\\AppData\\Local\\Programs\\Python\\Python310\\lib\\site-packages\\pandas_datareader\\yahoo\\daily.py:153\u001b[0m, in \u001b[0;36mYahooDailyReader._read_one_data\u001b[1;34m(self, url, params)\u001b[0m\n\u001b[0;32m    151\u001b[0m \u001b[39mtry\u001b[39;00m:\n\u001b[0;32m    152\u001b[0m     j \u001b[39m=\u001b[39m json\u001b[39m.\u001b[39mloads(re\u001b[39m.\u001b[39msearch(ptrn, resp\u001b[39m.\u001b[39mtext, re\u001b[39m.\u001b[39mDOTALL)\u001b[39m.\u001b[39mgroup(\u001b[39m1\u001b[39m))\n\u001b[1;32m--> 153\u001b[0m     data \u001b[39m=\u001b[39m j[\u001b[39m\"\u001b[39;49m\u001b[39mcontext\u001b[39;49m\u001b[39m\"\u001b[39;49m][\u001b[39m\"\u001b[39;49m\u001b[39mdispatcher\u001b[39;49m\u001b[39m\"\u001b[39;49m][\u001b[39m\"\u001b[39;49m\u001b[39mstores\u001b[39;49m\u001b[39m\"\u001b[39;49m][\u001b[39m\"\u001b[39;49m\u001b[39mHistoricalPriceStore\u001b[39;49m\u001b[39m\"\u001b[39;49m]\n\u001b[0;32m    154\u001b[0m \u001b[39mexcept\u001b[39;00m \u001b[39mKeyError\u001b[39;00m:\n\u001b[0;32m    155\u001b[0m     msg \u001b[39m=\u001b[39m \u001b[39m\"\u001b[39m\u001b[39mNo data fetched for symbol \u001b[39m\u001b[39m{}\u001b[39;00m\u001b[39m using \u001b[39m\u001b[39m{}\u001b[39;00m\u001b[39m\"\u001b[39m\n",
      "\u001b[1;31mTypeError\u001b[0m: string indices must be integers"
     ]
    }
   ],
   "source": [
    "from pandas_datareader import data as web\n",
    "\n",
    "df = web.get_data_yahoo(\"AAPL\", end=\"2018-12-31\", start=\"2017-01-01\")"
   ]
  },
  {
   "cell_type": "code",
   "execution_count": 4,
   "id": "a507fea5",
   "metadata": {},
   "outputs": [
    {
     "data": {
      "text/html": [
       "<div>\n",
       "<style scoped>\n",
       "    .dataframe tbody tr th:only-of-type {\n",
       "        vertical-align: middle;\n",
       "    }\n",
       "\n",
       "    .dataframe tbody tr th {\n",
       "        vertical-align: top;\n",
       "    }\n",
       "\n",
       "    .dataframe thead th {\n",
       "        text-align: right;\n",
       "    }\n",
       "</style>\n",
       "<table border=\"1\" class=\"dataframe\">\n",
       "  <thead>\n",
       "    <tr style=\"text-align: right;\">\n",
       "      <th></th>\n",
       "      <th>Open</th>\n",
       "      <th>High</th>\n",
       "      <th>Low</th>\n",
       "      <th>Close</th>\n",
       "      <th>Adj Close</th>\n",
       "      <th>Volume</th>\n",
       "    </tr>\n",
       "    <tr>\n",
       "      <th>Date</th>\n",
       "      <th></th>\n",
       "      <th></th>\n",
       "      <th></th>\n",
       "      <th></th>\n",
       "      <th></th>\n",
       "      <th></th>\n",
       "    </tr>\n",
       "  </thead>\n",
       "  <tbody>\n",
       "    <tr>\n",
       "      <th>2017-01-03</th>\n",
       "      <td>28.950001</td>\n",
       "      <td>29.082500</td>\n",
       "      <td>28.690001</td>\n",
       "      <td>29.037500</td>\n",
       "      <td>27.095844</td>\n",
       "      <td>115127600</td>\n",
       "    </tr>\n",
       "    <tr>\n",
       "      <th>2017-01-04</th>\n",
       "      <td>28.962500</td>\n",
       "      <td>29.127501</td>\n",
       "      <td>28.937500</td>\n",
       "      <td>29.004999</td>\n",
       "      <td>27.065519</td>\n",
       "      <td>84472400</td>\n",
       "    </tr>\n",
       "    <tr>\n",
       "      <th>2017-01-05</th>\n",
       "      <td>28.980000</td>\n",
       "      <td>29.215000</td>\n",
       "      <td>28.952499</td>\n",
       "      <td>29.152500</td>\n",
       "      <td>27.203161</td>\n",
       "      <td>88774400</td>\n",
       "    </tr>\n",
       "    <tr>\n",
       "      <th>2017-01-06</th>\n",
       "      <td>29.195000</td>\n",
       "      <td>29.540001</td>\n",
       "      <td>29.117500</td>\n",
       "      <td>29.477501</td>\n",
       "      <td>27.506424</td>\n",
       "      <td>127007600</td>\n",
       "    </tr>\n",
       "    <tr>\n",
       "      <th>2017-01-09</th>\n",
       "      <td>29.487499</td>\n",
       "      <td>29.857500</td>\n",
       "      <td>29.485001</td>\n",
       "      <td>29.747499</td>\n",
       "      <td>27.758371</td>\n",
       "      <td>134247600</td>\n",
       "    </tr>\n",
       "    <tr>\n",
       "      <th>...</th>\n",
       "      <td>...</td>\n",
       "      <td>...</td>\n",
       "      <td>...</td>\n",
       "      <td>...</td>\n",
       "      <td>...</td>\n",
       "      <td>...</td>\n",
       "    </tr>\n",
       "    <tr>\n",
       "      <th>2018-12-21</th>\n",
       "      <td>39.215000</td>\n",
       "      <td>39.540001</td>\n",
       "      <td>37.407501</td>\n",
       "      <td>37.682499</td>\n",
       "      <td>36.264637</td>\n",
       "      <td>382978400</td>\n",
       "    </tr>\n",
       "    <tr>\n",
       "      <th>2018-12-24</th>\n",
       "      <td>37.037498</td>\n",
       "      <td>37.887501</td>\n",
       "      <td>36.647499</td>\n",
       "      <td>36.707500</td>\n",
       "      <td>35.326321</td>\n",
       "      <td>148676800</td>\n",
       "    </tr>\n",
       "    <tr>\n",
       "      <th>2018-12-26</th>\n",
       "      <td>37.075001</td>\n",
       "      <td>39.307499</td>\n",
       "      <td>36.680000</td>\n",
       "      <td>39.292500</td>\n",
       "      <td>37.814049</td>\n",
       "      <td>234330000</td>\n",
       "    </tr>\n",
       "    <tr>\n",
       "      <th>2018-12-27</th>\n",
       "      <td>38.959999</td>\n",
       "      <td>39.192501</td>\n",
       "      <td>37.517502</td>\n",
       "      <td>39.037498</td>\n",
       "      <td>37.568642</td>\n",
       "      <td>212468400</td>\n",
       "    </tr>\n",
       "    <tr>\n",
       "      <th>2018-12-28</th>\n",
       "      <td>39.375000</td>\n",
       "      <td>39.630001</td>\n",
       "      <td>38.637501</td>\n",
       "      <td>39.057499</td>\n",
       "      <td>37.587894</td>\n",
       "      <td>169165600</td>\n",
       "    </tr>\n",
       "  </tbody>\n",
       "</table>\n",
       "<p>501 rows × 6 columns</p>\n",
       "</div>"
      ],
      "text/plain": [
       "                 Open       High        Low      Close  Adj Close     Volume\n",
       "Date                                                                        \n",
       "2017-01-03  28.950001  29.082500  28.690001  29.037500  27.095844  115127600\n",
       "2017-01-04  28.962500  29.127501  28.937500  29.004999  27.065519   84472400\n",
       "2017-01-05  28.980000  29.215000  28.952499  29.152500  27.203161   88774400\n",
       "2017-01-06  29.195000  29.540001  29.117500  29.477501  27.506424  127007600\n",
       "2017-01-09  29.487499  29.857500  29.485001  29.747499  27.758371  134247600\n",
       "...               ...        ...        ...        ...        ...        ...\n",
       "2018-12-21  39.215000  39.540001  37.407501  37.682499  36.264637  382978400\n",
       "2018-12-24  37.037498  37.887501  36.647499  36.707500  35.326321  148676800\n",
       "2018-12-26  37.075001  39.307499  36.680000  39.292500  37.814049  234330000\n",
       "2018-12-27  38.959999  39.192501  37.517502  39.037498  37.568642  212468400\n",
       "2018-12-28  39.375000  39.630001  38.637501  39.057499  37.587894  169165600\n",
       "\n",
       "[501 rows x 6 columns]"
      ]
     },
     "execution_count": 4,
     "metadata": {},
     "output_type": "execute_result"
    }
   ],
   "source": [
    "df"
   ]
  },
  {
   "cell_type": "code",
   "execution_count": 5,
   "id": "95b0aad1",
   "metadata": {},
   "outputs": [
    {
     "data": {
      "text/plain": [
       "<AxesSubplot:xlabel='Date'>"
      ]
     },
     "execution_count": 5,
     "metadata": {},
     "output_type": "execute_result"
    },
    {
     "data": {
      "image/png": "[encoded data removed]",
      "text/plain": [
       "<Figure size 432x288 with 1 Axes>"
      ]
     },
     "metadata": {
      "needs_background": "light"
     },
     "output_type": "display_data"
    }
   ],
   "source": [
    "df['High'].plot()"
   ]
  },
  {
   "cell_type": "code",
   "execution_count": null,
   "id": "13c35092",
   "metadata": {},
   "outputs": [
    {
     "data": {
      "text/plain": [
       "<AxesSubplot:ylabel='Frequency'>"
      ]
     },
     "execution_count": 53,
     "metadata": {},
     "output_type": "execute_result"
    },
    {
     "data": {
      "image/png": "[encoded data removed]",
      "text/plain": [
       "<Figure size 432x288 with 1 Axes>"
      ]
     },
     "metadata": {
      "needs_background": "light"
     },
     "output_type": "display_data"
    }
   ],
   "source": []
  },
  {
   "attachments": {},
   "cell_type": "markdown",
   "id": "96a89bad",
   "metadata": {},
   "source": [
    "2. Проанализируйте временной ряд максимальной цены акций на предмет выбросов."
   ]
  },
  {
   "attachments": {},
   "cell_type": "markdown",
   "id": "ab734027",
   "metadata": {},
   "source": [
    "## Лабораторная работа 5.1"
   ]
  },
  {
   "attachments": {},
   "cell_type": "markdown",
   "id": "4a4b3cd8",
   "metadata": {},
   "source": [
    "__Данная работа подразумевает построение рисунков. В связи с этим задания, для которых не будет виден результат выполнения ячеек (получившиеся рисунки), засчитаны не будут вне зависимости от правильности решения.__"
   ]
  },
  {
   "attachments": {},
   "cell_type": "markdown",
   "id": "00567487",
   "metadata": {},
   "source": [
    "### Визуализация данных при помощи пакета `matplotlib`"
   ]
  },
  {
   "attachments": {},
   "cell_type": "markdown",
   "id": "597af5b7",
   "metadata": {},
   "source": [
    "__В данном блоке задач не разрешается использовать другие пакеты для визуализации, кроме `matplotlib`.__"
   ]
  },
  {
   "attachments": {},
   "cell_type": "markdown",
   "id": "10edb9c1",
   "metadata": {},
   "source": [
    "1\\. В файле `average_ratings.npy` содержится информация о среднем рейтинге 3 рецептов за период с 01.01.2019 по 30.12.2021. При помощи пакета `matplotlib` в _одной системе координат_ (на одной картинке) изобразите три временных ряда, соответствующих средним рейтингам этих рецептов. \n",
    "\n",
    "По горизонтальной оси располагается номер дня (0, 1, 2, ...), по вертикальной - средний рейтинг рецептов в этот день. \n",
    "\n",
    "Названия рецептов и их индексы в файле `average_ratings.npy`:\n",
    "```\n",
    "0: waffle iron french toast\n",
    "1: zwetschgenkuchen bavarian plum cake\n",
    "2: lime tea\n",
    "```\n",
    "\n",
    "Результатом работы является визуализация, на которой:\n",
    "* добавлена подпись горизонтальной оси с текстом \"Номер дня\"\n",
    "* добавлена подпись вертикальной оси с текстом \"Средний рейтинг\"\n",
    "* добавлена подпись рисунка с текстом \"Изменение среднего рейтинга трех рецептов\"\n",
    "* каждый из временных рядов имеет уникальный цвет\n",
    "* добавлена легенда, на которой отображается название каждого из рецептов\n",
    "\n",
    "_Примечание_ : для считывания файла воспользуйтесь функцией `np.load`."
   ]
  },
  {
   "attachments": {},
   "cell_type": "markdown",
   "id": "44b13bed",
   "metadata": {},
   "source": [
    "2\\. Измените визуализацию, полученную в задании 1, таким образом, чтобы по горизонтальной оси отображались года, а между двумя соседними годами располагались засечки, соответствующие месяцам. Для этого создайте диапазон дат от 01.01.2019 по 30.12.2021 с шагом в один день (например, [вот так](https://pandas.pydata.org/docs/reference/api/pandas.date_range.html)) и используйте этот диапазон при вызове метода `plot`. Далее настройте `major_locator` и `minor_locator` горизонтальной оси (подробнее см. [здесь](https://matplotlib.org/stable/gallery/text_labels_and_annotations/date.html))\n",
    "\n",
    "Примените к получившемуся рисунку цвета графиков, подписи, легенду из задания 1. Измените подпись горизонтальной оси, написав там слово \"Дата\".\n"
   ]
  },
  {
   "attachments": {},
   "cell_type": "markdown",
   "id": "ab5e9b0e",
   "metadata": {},
   "source": [
    "3\\. Измените визуализацию, полученную в задании 2, разбив одну картинку на три, расположенных друг под другом. Три изображения должны иметь одну общую горизонтальную ось (каждое изображение засечки в нижней части, но значения этих засечек находятся только под самым нижним изображением). Примените к получившемуся рисунку цвета графиков, подписи, легенду из задания 2. "
   ]
  },
  {
   "attachments": {},
   "cell_type": "markdown",
   "id": "08e92a5c",
   "metadata": {},
   "source": [
    "4\\. В файле `visitors.npy` представлена информация о количестве посетителей сайта в течении первых 100 дней после объявления сайтом акции. Постройте график изменения количества пользователей в зависимости от дня в двух вариантах, расположенных рядом по горизонтале. В обоих случаях изобразите график в виде ломаной, но в первом случае оставьте линейный масштаб осей, а во втором случае сделайте вертикальную ось в логарифмическом масштабе. Добавьте на обе картинки подпись над этим графиком к текстом $y(x)=\\lambda e^{-\\lambda x}$\n",
    "\n",
    "Добавьте на оба изображения красную горизонтальную линию на уровне $y=100$. Добавьте на обе картинки подпись над этой линией с текстом $y(x)=100$\n",
    "\n",
    "Добавьте на оба изображения подписи осей; горизонтальную ось подпишите текстом \"Количество дней с момента акции\", вертикальную - \"Число посетителей\".\n",
    "\n",
    "Добавьте общий заголовок для фигуры с текстом \"Изменение количества пользователей в линейном и логарифмическом масштабе\".\n"
   ]
  },
  {
   "attachments": {},
   "cell_type": "markdown",
   "id": "2bfaf3e1",
   "metadata": {},
   "source": [
    "## Лабораторная работа 5.2"
   ]
  },
  {
   "attachments": {},
   "cell_type": "markdown",
   "id": "80429ece",
   "metadata": {},
   "source": [
    "### Визуализация данных на основе структур `pandas`."
   ]
  },
  {
   "attachments": {},
   "cell_type": "markdown",
   "id": "c4ce0c09",
   "metadata": {},
   "source": [
    "Для продолжения работы загрузите таблицы recipes и reviews (__ЛР2__)"
   ]
  },
  {
   "cell_type": "code",
   "execution_count": null,
   "id": "8b013e2e",
   "metadata": {},
   "outputs": [],
   "source": [
    "reviews = ...\n",
    "recipes = ..."
   ]
  },
  {
   "attachments": {},
   "cell_type": "markdown",
   "id": "8beb61a7",
   "metadata": {},
   "source": [
    "5\\. Назовем рецепты короткими, если они занимают строго меньше 5 минут; средними, если они занимают от 5 до 50 минут (не включая 50), и длинными, если они занимают от 50 минут и больше. Сгруппируйте все рецепты по данному признаку и для каждой группы посчитайте 2 величины: среднее количество шагов рецептов в группе и размер группы. При помощи методов структур `pandas` постройте столбчатую диаграмму, где каждый столбец означает группу (короткие, средние или длинные рецепты), а высота столбца обозначает среднее количество шагов рецептов в группе. Рядом по горизонтали разместите круговую диаграмму, на которой отображены размеры каждой из групп.\n",
    "\n",
    "Добавьте следующие подписи:\n",
    "* по горизонтальной оси под столбчатой диаграммой напишите \"Группа рецептов\"\n",
    "* по вертикальной оси слева от столбчатой диаграммы напишите \"Средняя длительность\"\n",
    "* над круговой диаграммой напишите \"Размеры групп рецептов\""
   ]
  },
  {
   "attachments": {},
   "cell_type": "markdown",
   "id": "7ebb1c1b",
   "metadata": {},
   "source": [
    "6\\. Из всего множества отзывов оставьте только те, которые были даны в 2008 и 2009 годах. Воспользовавшись возможностями метода `pd.DataFrame.plot.hist`, постройте 2 гистограммы столбца `rating`. Гистограммы должны быть расположены рядом по горизонтали. Левая гистограмма соотвествует 2008 году, правая - 2009 году. Добавьте общую подпись для рисунка с текстом \"Гистограммы рейтинга отзывов в 2008 и 2009 годах\". Добейтесь того, чтобы подпись вертикальной оси правого рисунка не \"наезжала\" на левый рисунок."
   ]
  },
  {
   "attachments": {},
   "cell_type": "markdown",
   "id": "0eaff2c6",
   "metadata": {},
   "source": [
    "### Визуализация данных при помощи пакета `seaborn`"
   ]
  },
  {
   "attachments": {},
   "cell_type": "markdown",
   "id": "8b6659a7",
   "metadata": {},
   "source": [
    "7\\. При помощи пакета `seaborn` постройте диаграмму рассеяния двух столбцов из таблицы `recipes`: `n_steps` и `n_ingredients`. Укажите в качестве группирующей переменной (hue) категориальную длительность рецепта (короткий, средний или длинные; см. задание 5). \n",
    "\n",
    "Добавьте заголовок рисунка \"Диаграмма рассеяния n_steps и n_ingredients\"\n",
    "\n",
    "Прокомментируйте, наблюдается ли визуально линейная зависимость между двумя этими переменными. Ответ оставьте в виде текстовой ячейки под изображением."
   ]
  },
  {
   "cell_type": "code",
   "execution_count": null,
   "id": "f29dab4a",
   "metadata": {},
   "outputs": [],
   "source": []
  },
  {
   "attachments": {},
   "cell_type": "markdown",
   "id": "acff5f6a",
   "metadata": {},
   "source": [
    "8\\. Объедините две таблицы `recipes` и `reviews` и постройте корреляционную матрицу на основе столбцов \"minutes\", \"n_steps\", \"n_ingredients\" и \"rating\". При помощи пакета `seaborn` визуализируйте полученную матрицу в виде тепловой карты (heatmap). \n",
    "\n",
    "Добавьте в ячейки тепловой карты подписи (значения к-та корреляции). Измените цветовую палитру на `YlOrRd`. \n",
    "\n",
    "Добавьте заголовок рисунка \"Корреляционная матрица числовых столбцов таблиц recipes и reviews\""
   ]
  },
  {
   "cell_type": "code",
   "execution_count": null,
   "id": "0d931652",
   "metadata": {},
   "outputs": [],
   "source": []
  }
 ],
 "metadata": {
  "kernelspec": {
   "display_name": "Python 3 (ipykernel)",
   "language": "python",
   "name": "python3"
  },
  "language_info": {
   "codemirror_mode": {
    "name": "ipython",
    "version": 3
   },
   "file_extension": ".py",
   "mimetype": "text/x-python",
   "name": "python",
   "nbconvert_exporter": "python",
   "pygments_lexer": "ipython3",
   "version": "3.10.4"
  }
 },
 "nbformat": 4,
 "nbformat_minor": 5
}
